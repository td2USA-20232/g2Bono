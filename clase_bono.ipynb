{
 "cells": [
  {
   "cell_type": "code",
   "execution_count": 1,
   "metadata": {},
   "outputs": [
    {
     "name": "stdout",
     "output_type": "stream",
     "text": [
      "Note: you may need to restart the kernel to use updated packages.\n"
     ]
    },
    {
     "name": "stderr",
     "output_type": "stream",
     "text": [
      "ERROR: Could not find a version that satisfies the requirement IPython.display (from versions: none)\n",
      "ERROR: No matching distribution found for IPython.display\n"
     ]
    }
   ],
   "source": [
    "pip install IPython.display"
   ]
  },
  {
   "cell_type": "code",
   "execution_count": 2,
   "metadata": {},
   "outputs": [
    {
     "name": "stdout",
     "output_type": "stream",
     "text": [
      "Note: you may need to restart the kernel to use updated packages.\n"
     ]
    },
    {
     "name": "stderr",
     "output_type": "stream",
     "text": [
      "ERROR: Could not find a version that satisfies the requirement sklearn.model_selection (from versions: none)\n",
      "ERROR: No matching distribution found for sklearn.model_selection\n"
     ]
    }
   ],
   "source": [
    "pip install sklearn.model_selection"
   ]
  },
  {
   "cell_type": "code",
   "execution_count": 3,
   "metadata": {},
   "outputs": [
    {
     "name": "stdout",
     "output_type": "stream",
     "text": [
      "Requirement already satisfied: scikit-learn in c:\\users\\asus\\anaconda3\\lib\\site-packages (1.0.2)\n",
      "Collecting scikit-learn\n",
      "  Downloading scikit_learn-1.3.0-cp39-cp39-win_amd64.whl (9.3 MB)\n",
      "Requirement already satisfied: numpy>=1.17.3 in c:\\users\\asus\\anaconda3\\lib\\site-packages (from scikit-learn) (1.21.5)\n",
      "Collecting joblib>=1.1.1\n",
      "  Downloading joblib-1.3.2-py3-none-any.whl (302 kB)\n",
      "Requirement already satisfied: scipy>=1.5.0 in c:\\users\\asus\\anaconda3\\lib\\site-packages (from scikit-learn) (1.7.3)\n",
      "Requirement already satisfied: threadpoolctl>=2.0.0 in c:\\users\\asus\\anaconda3\\lib\\site-packages (from scikit-learn) (2.2.0)\n",
      "Installing collected packages: joblib, scikit-learn\n",
      "  Attempting uninstall: joblib\n",
      "    Found existing installation: joblib 1.1.0\n",
      "    Uninstalling joblib-1.1.0:\n",
      "      Successfully uninstalled joblib-1.1.0\n",
      "  Attempting uninstall: scikit-learn\n",
      "    Found existing installation: scikit-learn 1.0.2\n",
      "    Uninstalling scikit-learn-1.0.2:\n",
      "      Successfully uninstalled scikit-learn-1.0.2\n",
      "Note: you may need to restart the kernel to use updated packages.\n"
     ]
    },
    {
     "name": "stderr",
     "output_type": "stream",
     "text": [
      "ERROR: Could not install packages due to an OSError: [WinError 5] Acceso denegado: 'C:\\\\Users\\\\ASUS\\\\anaconda3\\\\Lib\\\\site-packages\\\\~klearn\\\\linear_model\\\\_cd_fast.cp39-win_amd64.pyd'\n",
      "Consider using the `--user` option or check the permissions.\n",
      "\n"
     ]
    }
   ],
   "source": [
    "pip install -U scikit-learn "
   ]
  },
  {
   "cell_type": "code",
   "execution_count": 4,
   "metadata": {},
   "outputs": [],
   "source": [
    "import numpy as np\n",
    "import pandas as pd\n",
    "import matplotlib.pyplot as plt\n",
    "import seaborn as sns\n",
    "import statsmodels.api as sm\n",
    "import statsmodels.formula.api as smf\n",
    "import patsy\n",
    "import itertools\n",
    "from IPython.display import display, HTML\n",
    "from sklearn import linear_model\n",
    "from sklearn.model_selection import KFold\n",
    "from ipywidgets import interact\n",
    "import ipywidgets as widgets\n",
    "import warnings\n",
    "warnings.filterwarnings('ignore')\n",
    "\n",
    "from ipywidgets import interact\n",
    "import ipywidgets as widgets \n",
    "\n",
    "from scipy import stats"
   ]
  },
  {
   "cell_type": "code",
   "execution_count": 5,
   "metadata": {},
   "outputs": [
    {
     "name": "stdout",
     "output_type": "stream",
     "text": [
      "    Income  Limit  Rating  Cards  Age  Education  Own Student Married Region  \\\n",
      "0   14.891   3606     283      2   34         11   No      No     Yes  South   \n",
      "1  106.025   6645     483      3   82         15  Yes     Yes     Yes   West   \n",
      "2  104.593   7075     514      4   71         11   No      No      No   West   \n",
      "3  148.924   9504     681      3   36         11  Yes      No      No   West   \n",
      "4   55.882   4897     357      2   68         16   No      No     Yes  South   \n",
      "\n",
      "   Balance  \n",
      "0      333  \n",
      "1      903  \n",
      "2      580  \n",
      "3      964  \n",
      "4      331  \n"
     ]
    }
   ],
   "source": [
    "# Importar el dataset\n",
    "df = pd.read_csv('Credit.csv')\n",
    "print(df.head())"
   ]
  },
  {
   "cell_type": "code",
   "execution_count": 6,
   "metadata": {},
   "outputs": [
    {
     "name": "stdout",
     "output_type": "stream",
     "text": [
      "    Income  Limit  Rating  Cards  Age  Education  Balance\n",
      "0   14.891   3606     283      2   34         11      333\n",
      "1  106.025   6645     483      3   82         15      903\n",
      "2  104.593   7075     514      4   71         11      580\n",
      "3  148.924   9504     681      3   36         11      964\n",
      "4   55.882   4897     357      2   68         16      331\n"
     ]
    }
   ],
   "source": [
    "#Eliminamos estas columnas ya que son categoricas y no las tendremos en cuenta para el ejercicio\n",
    "columns_to_drop = ['Own', 'Student', 'Married', 'Region']\n",
    "df.drop(columns=columns_to_drop, inplace=True)\n",
    "print(df.head())"
   ]
  },
  {
   "cell_type": "code",
   "execution_count": 7,
   "metadata": {},
   "outputs": [
    {
     "data": {
      "text/plain": [
       "(400, 7)"
      ]
     },
     "execution_count": 7,
     "metadata": {},
     "output_type": "execute_result"
    }
   ],
   "source": [
    "df.shape"
   ]
  },
  {
   "cell_type": "code",
   "execution_count": 8,
   "metadata": {},
   "outputs": [],
   "source": [
    "x= df[['Income', 'Limit', 'Rating', 'Cards', 'Age', 'Education']]\n",
    "y= df['Balance']\n"
   ]
  },
  {
   "cell_type": "code",
   "execution_count": 9,
   "metadata": {},
   "outputs": [],
   "source": [
    "def get_models(k, X, y):\n",
    "    \"\"\"\n",
    "    Fit all possible models that contain exactly k predictors.\n",
    "    \"\"\"\n",
    "    # List all available predictors\n",
    "    X_combos = itertools.combinations(list(X.columns), k)\n",
    "    \n",
    "    # Fit all models accumulating Residual Sum of Squares (RSS)\n",
    "    models = []\n",
    "    for X_label in X_combos:\n",
    "        # Parse patsy formula\n",
    "        X_smf = ' + '.join(X_label)\n",
    "        f     = '{} ~ {}'.format(y.columns[0], X_smf)\n",
    "        # Fit model\n",
    "        model = smf.ols(formula=f, data=pd.concat([X, y], axis=1)).fit()\n",
    "        # Return results\n",
    "        models += [(f, model)]\n",
    "    return models\n",
    "\n",
    "\n",
    "def min_rss(statsmodels):\n",
    "    \"\"\"Return model with lowest Residual Sum of Squares (RSS)\"\"\"\n",
    "    return sorted(statsmodels, key=lambda tup: tup[1].ssr)[0]\n",
    "\n",
    "\n",
    "def max_adjr2(statsmodels):\n",
    "    \"\"\"Return model with max R-squared\"\"\"\n",
    "    return sorted(statsmodels, reverse=True, key=lambda tup: tup[1].rsquared_adj)[0]\n",
    "\n",
    "def min_bic(statsmodels):\n",
    "    \"\"\"Return model with min Bayes' Information Criteria\"\"\"\n",
    "    return sorted(statsmodels, reverse=False, key=lambda tup: tup[1].bic)[0]\n",
    "\n",
    "def min_aic(statsmodels):\n",
    "    \"\"\"Return model with min Akaike's Information Criteria\"\"\"\n",
    "    return sorted(statsmodels, reverse=False, key=lambda tup: tup[1].aic)[0]\n"
   ]
  },
  {
   "cell_type": "code",
   "execution_count": 10,
   "metadata": {},
   "outputs": [
    {
     "name": "stdout",
     "output_type": "stream",
     "text": [
      "Progess: k = 1, done\n",
      "Progess: k = 2, done\n",
      "Progess: k = 3, done\n",
      "Progess: k = 4, done\n",
      "Progess: k = 5, done\n",
      "Progess: k = 6, done\n"
     ]
    }
   ],
   "source": [
    "X = pd.DataFrame({'X': df['Income'],\n",
    "                  'X2': df['Limit'],\n",
    "                  'X3': df['Rating'],\n",
    "                  'X4': df['Cards'],\n",
    "                  'X5': df['Age'],\n",
    "                  'X6': df['Education']})\n",
    "y = pd.DataFrame({'y': df['Balance']})\n",
    "\n",
    "# get all model results\n",
    "model_subsets = []\n",
    "for k in range(len(X.columns)):\n",
    "    k=k+1\n",
    "    subset = get_models(k, X, y)\n",
    "    model_subsets += [subset]\n",
    "    print('Progess: k = {}, done'.format(k))"
   ]
  },
  {
   "cell_type": "code",
   "execution_count": 11,
   "metadata": {},
   "outputs": [
    {
     "data": {
      "text/html": [
       "<h4>Adjusted R^2</h4>"
      ],
      "text/plain": [
       "<IPython.core.display.HTML object>"
      ]
     },
     "metadata": {},
     "output_type": "display_data"
    },
    {
     "data": {
      "image/png": "[encoded data removed]",
      "text/plain": [
       "<Figure size 432x288 with 1 Axes>"
      ]
     },
     "metadata": {
      "needs_background": "light"
     },
     "output_type": "display_data"
    },
    {
     "name": "stdout",
     "output_type": "stream",
     "text": [
      "Model selected: \n",
      "Intercept   -449.361011\n",
      "X             -7.562110\n",
      "X2             0.128553\n",
      "X3             2.022405\n",
      "X4            11.552721\n",
      "X5            -0.888316\n",
      "dtype: float64\n"
     ]
    },
    {
     "data": {
      "text/html": [
       "<h4>Bayes' Information Criteria</h4>"
      ],
      "text/plain": [
       "<IPython.core.display.HTML object>"
      ]
     },
     "metadata": {},
     "output_type": "display_data"
    },
    {
     "data": {
      "image/png": "[encoded data removed]",
      "text/plain": [
       "<Figure size 432x288 with 1 Axes>"
      ]
     },
     "metadata": {
      "needs_background": "light"
     },
     "output_type": "display_data"
    },
    {
     "name": "stdout",
     "output_type": "stream",
     "text": [
      "Model selected: \n",
      "Intercept   -534.812150\n",
      "X             -7.672124\n",
      "X3             3.949265\n",
      "dtype: float64\n"
     ]
    },
    {
     "data": {
      "text/html": [
       "<h4>Akaike's Information Criteria</h4>"
      ],
      "text/plain": [
       "<IPython.core.display.HTML object>"
      ]
     },
     "metadata": {},
     "output_type": "display_data"
    },
    {
     "data": {
      "image/png": "[encoded data removed]",
      "text/plain": [
       "<Figure size 432x288 with 1 Axes>"
      ]
     },
     "metadata": {
      "needs_background": "light"
     },
     "output_type": "display_data"
    },
    {
     "name": "stdout",
     "output_type": "stream",
     "text": [
      "Model selected: \n",
      "Intercept   -449.361011\n",
      "X             -7.562110\n",
      "X2             0.128553\n",
      "X3             2.022405\n",
      "X4            11.552721\n",
      "X5            -0.888316\n",
      "dtype: float64\n"
     ]
    }
   ],
   "source": [
    "# Get predictor count\n",
    "k = np.arange(1, len(X.columns)+1)\n",
    "\n",
    "# adjr2\n",
    "# ------------------------------------------------\n",
    "display(HTML('<h4>Adjusted R^2</h4>'))\n",
    "\n",
    "# Plot best r-squared score for each subset\n",
    "adjr2 = [max_adjr2(m)[1].rsquared_adj for m in model_subsets]\n",
    "\n",
    "sns.lineplot(x=k, y=adjr2)\n",
    "plt.xlabel('k')\n",
    "plt.ylabel('$R^2$')\n",
    "plt.show()\n",
    "\n",
    "# Select best subset\n",
    "coefs_r2 = [(max_adjr2(m)[1].rsquared_adj, max_adjr2(m)[1].params) for m in model_subsets]\n",
    "print('Model selected: \\n{}'.format(max(coefs_r2)[1]))\n",
    "\n",
    "\n",
    "# Bayes' Information Criteria (BIC)\n",
    "# ------------------------------------------------\n",
    "display(HTML('<h4>Bayes\\' Information Criteria</h4>'))\n",
    "\n",
    "# Get best BIC\n",
    "bic = [min_bic(m)[1].bic for m in model_subsets]\n",
    "\n",
    "sns.lineplot(x=k, y=bic)\n",
    "plt.xlabel('k')\n",
    "plt.ylabel('BIC')\n",
    "plt.show()\n",
    "\n",
    "# Select best subset\n",
    "coefs_bic = [(min_bic(m)[1].bic, min_bic(m)[1].params) for m in model_subsets]\n",
    "print('Model selected: \\n{}'.format(min(coefs_bic)[1]))\n",
    "\n",
    "\n",
    "# Akaike's Information Criteria (AIC/ C_p)\n",
    "# ------------------------------------------------\n",
    "display(HTML('<h4>Akaike\\'s Information Criteria</h4>'))\n",
    "\n",
    "# Get best AIC\n",
    "aic = [min_aic(m)[1].aic for m in model_subsets]\n",
    "\n",
    "sns.lineplot(x=k, y=aic)\n",
    "plt.xlabel('k')\n",
    "plt.ylabel('AIC')\n",
    "plt.show()\n",
    "\n",
    "# Select best subset\n",
    "coefs_aic = [(min_aic(m)[1].aic, min_aic(m)[1].params) for m in model_subsets]\n",
    "print('Model selected: \\n{}'.format(min(coefs_aic)[1]))"
   ]
  },
  {
   "cell_type": "markdown",
   "metadata": {},
   "source": [
    "\"BIC penaliza más la complejidad que AIC, busca el modelo más abstracto, más sencillo y que hace predicciones en un contexto más amplio. Por su parte AIC dará con un modelo más complejo y pragmático que hace predicciones con mayor detalle dentro de nuestros propios datos.\"\n",
    "(Cosas que conviene saber al usar AIC, DIC y otros criterios de información, s. f.)\n",
    "\n",
    "Basándose en lo anterior, teniendo en cuenta los resultados arrojados en las gráficas y desde una perspectiva de complejidad, el mejor modelo es el que incluye las variables X1, X2, X3, X4 y X5, en concenso con los resultados de que arrojaron los gráficos de los criterios de R^2 austado y AIC, ya que contienen un R^2 ajustado alto, lo que sugiere un buen ajuste a los datos. Lo que se busca es un modelo más complejo que haga predicciones con mayor detalle dentro de los datos."
   ]
  },
  {
   "cell_type": "markdown",
   "metadata": {},
   "source": [
    "### Forward y Backward"
   ]
  },
  {
   "cell_type": "code",
   "execution_count": 12,
   "metadata": {},
   "outputs": [],
   "source": [
    "def forward_stepwise(X, y, scorer='ssr', results=[(0, [])]):\n",
    "    \"\"\"Perform forward stepwise variable selection as described in\n",
    "    An Introductions to Statistical Learning (p.207)\n",
    "    Returns pandas dataframe object  with results for each step\"\"\"\n",
    "    # List predictors that havent's been used so far\n",
    "    p_all    = list(X.columns)\n",
    "    p_used   = results[-1][1]\n",
    "    p_unused = [p for p in p_all if p not in p_used]\n",
    "    \n",
    "    # Job done, exit recursion\n",
    "    if not p_unused:\n",
    "        scores = [r[0] for r in results]\n",
    "        preds  = [r[1] for r in results]\n",
    "        return pd.DataFrame({scorer: scores, 'predictors': preds}).drop(0)\n",
    "    \n",
    "    # Get score for each possible additional predictor\n",
    "    r = []\n",
    "    for p in p_unused:\n",
    "        f     = '{} ~ {}'.format(y.columns[0], '+'.join([p]+p_used))\n",
    "        # Fit model\n",
    "        model = smf.ols(formula=f, data=pd.concat([X, y], axis=1)).fit()\n",
    "        r    += [(model, [p]+p_used)]\n",
    "    \n",
    "    # Choose predictor which yields best score\n",
    "    if scorer == 'ssr':\n",
    "        best_model = sorted(r, key=lambda tup: tup[0].ssr)[0]\n",
    "        best_score = (best_model[0].ssr, best_model[1])\n",
    "    elif scorer == 'rsquared_adj':\n",
    "        best_model = sorted(r, key=lambda tup: tup[0].rsquared_adj)[-1]\n",
    "        best_score = (best_model[0].rsquared_adj, best_model[1])        \n",
    "    elif scorer == 'bic':\n",
    "        best_model = sorted(r, key=lambda tup: tup[0].bic)[0]\n",
    "        best_score = (best_model[0].bic, best_model[1]) \n",
    "    elif scorer == 'aic':\n",
    "        best_model = sorted(r, key=lambda tup: tup[0].aic)[0]\n",
    "        best_score = (best_model[0].aic, best_model[1]) \n",
    "                        \n",
    "    new_results = results + [best_score]\n",
    "    # Recursive call to self\n",
    "    return forward_stepwise(X, y, scorer, new_results)"
   ]
  },
  {
   "cell_type": "code",
   "execution_count": 13,
   "metadata": {},
   "outputs": [],
   "source": [
    "def backward_stepwise(X, y, scorer='ssr', results=[]):\n",
    "    \"\"\"Perform backward stepwise variable selection as described in\n",
    "    An Introductions to Statistical Learning (p.209)\n",
    "    Returns pandas dataframe object  with results for each step\"\"\"\n",
    "    # List predictors that havent's been used so far\n",
    "    p_all = list(X.columns)\n",
    "\n",
    "    # Check if we're starting out here\n",
    "    if not results:\n",
    "        # Fit model with all features\n",
    "        f     = '{} ~ {}'.format(y.columns[0], '+'.join(p_all))\n",
    "        model = smf.ols(formula=f, data=pd.concat([X, y], axis=1)).fit()\n",
    "        # Begin backward stepwise recursion\n",
    "        if scorer == 'ssr':\n",
    "            return backward_stepwise(X, y, scorer, [(model.ssr, p_all)])\n",
    "        if scorer == 'rsquared_adj':\n",
    "            return backward_stepwise(X, y, scorer, [(model.rsquared_adj, p_all)])\n",
    "        if scorer == 'bic':\n",
    "            return backward_stepwise(X, y, scorer, [(model.bic, p_all)])\n",
    "        if scorer == 'aic':\n",
    "            return backward_stepwise(X, y, scorer, [(model.aic, p_all)])\n",
    "    else:\n",
    "        p_used = results[-1][1]\n",
    "    \n",
    "    # Job done, exit recursion\n",
    "    if len(p_used) == 1:\n",
    "        scores = [r[0] for r in results]\n",
    "        preds  = [r[1] for r in results]\n",
    "        return pd.DataFrame({scorer: scores, 'predictors': preds})    \n",
    "    \n",
    "    # Get rss score for each possible removed predictor\n",
    "    r = []\n",
    "    for p in p_used:\n",
    "        p_test = [i for i in p_used if i != p]\n",
    "        f     = '{} ~ {}'.format(y.columns[0], '+'.join(p_test))\n",
    "        # Fit model\n",
    "        model = smf.ols(formula=f, data=pd.concat([X, y], axis=1)).fit()\n",
    "        r     += [(model, p_test)]\n",
    "    \n",
    "    # Choose removal of predictor which yields best score\n",
    "    if scorer == 'ssr':\n",
    "        best_model = sorted(r, key=lambda tup: tup[0].ssr)[0]\n",
    "        best_score = (best_model[0].ssr, best_model[1])\n",
    "    elif scorer == 'rsquared_adj':\n",
    "        best_model = sorted(r, key=lambda tup: tup[0].rsquared_adj)[-1]\n",
    "        best_score = (best_model[0].rsquared_adj, best_model[1])        \n",
    "    elif scorer == 'bic':\n",
    "        best_model = sorted(r, key=lambda tup: tup[0].bic)[0]\n",
    "        best_score = (best_model[0].bic, best_model[1]) \n",
    "    elif scorer == 'aic':\n",
    "        best_model = sorted(r, key=lambda tup: tup[0].aic)[0]\n",
    "        best_score = (best_model[0].aic, best_model[1]) \n",
    "\n",
    "    new_results = results + [best_score]\n",
    "    # Recursive call to self\n",
    "    return backward_stepwise(X, y, scorer, new_results)\n",
    "\n",
    "\n",
    "def subset_analysis(df, scorer):\n",
    "    \"\"\"Renders results from forward_stepwise() and backward_stepwise()\"\"\"\n",
    "    df['predictors_str'] = df['predictors'].astype(str)\n",
    "    \n",
    "    ax = sns.lineplot(x='predictors_str', y=scorer, data=df, sort=False)\n",
    "    plt.xticks(rotation=90)\n",
    "    plt.show();\n",
    "    \n",
    "    if scorer == 'rsquared_adj':\n",
    "        display(df[df[scorer] ==  df[scorer].max()].drop('predictors_str', axis=1))\n",
    "    else:\n",
    "        display(df[df[scorer] ==  df[scorer].min()].drop('predictors_str', axis=1))"
   ]
  },
  {
   "cell_type": "markdown",
   "metadata": {},
   "source": [
    "#### Forward stepwise selection"
   ]
  },
  {
   "cell_type": "code",
   "execution_count": 14,
   "metadata": {},
   "outputs": [
    {
     "data": {
      "text/html": [
       "<h4>Adjusted R^2</h4>"
      ],
      "text/plain": [
       "<IPython.core.display.HTML object>"
      ]
     },
     "metadata": {},
     "output_type": "display_data"
    },
    {
     "data": {
      "image/png": "[encoded data removed]",
      "text/plain": [
       "<Figure size 432x288 with 1 Axes>"
      ]
     },
     "metadata": {
      "needs_background": "light"
     },
     "output_type": "display_data"
    },
    {
     "data": {
      "text/html": [
       "<div>\n",
       "<style scoped>\n",
       "    .dataframe tbody tr th:only-of-type {\n",
       "        vertical-align: middle;\n",
       "    }\n",
       "\n",
       "    .dataframe tbody tr th {\n",
       "        vertical-align: top;\n",
       "    }\n",
       "\n",
       "    .dataframe thead th {\n",
       "        text-align: right;\n",
       "    }\n",
       "</style>\n",
       "<table border=\"1\" class=\"dataframe\">\n",
       "  <thead>\n",
       "    <tr style=\"text-align: right;\">\n",
       "      <th></th>\n",
       "      <th>rsquared_adj</th>\n",
       "      <th>predictors</th>\n",
       "    </tr>\n",
       "  </thead>\n",
       "  <tbody>\n",
       "    <tr>\n",
       "      <th>5</th>\n",
       "      <td>0.876515</td>\n",
       "      <td>[X4, X5, X2, X, X3]</td>\n",
       "    </tr>\n",
       "  </tbody>\n",
       "</table>\n",
       "</div>"
      ],
      "text/plain": [
       "   rsquared_adj           predictors\n",
       "5      0.876515  [X4, X5, X2, X, X3]"
      ]
     },
     "metadata": {},
     "output_type": "display_data"
    },
    {
     "data": {
      "text/html": [
       "<h4>Bayes' Information Criteria</h4>"
      ],
      "text/plain": [
       "<IPython.core.display.HTML object>"
      ]
     },
     "metadata": {},
     "output_type": "display_data"
    },
    {
     "data": {
      "image/png": "[encoded data removed]",
      "text/plain": [
       "<Figure size 432x288 with 1 Axes>"
      ]
     },
     "metadata": {
      "needs_background": "light"
     },
     "output_type": "display_data"
    },
    {
     "data": {
      "text/html": [
       "<div>\n",
       "<style scoped>\n",
       "    .dataframe tbody tr th:only-of-type {\n",
       "        vertical-align: middle;\n",
       "    }\n",
       "\n",
       "    .dataframe tbody tr th {\n",
       "        vertical-align: top;\n",
       "    }\n",
       "\n",
       "    .dataframe thead th {\n",
       "        text-align: right;\n",
       "    }\n",
       "</style>\n",
       "<table border=\"1\" class=\"dataframe\">\n",
       "  <thead>\n",
       "    <tr style=\"text-align: right;\">\n",
       "      <th></th>\n",
       "      <th>bic</th>\n",
       "      <th>predictors</th>\n",
       "    </tr>\n",
       "  </thead>\n",
       "  <tbody>\n",
       "    <tr>\n",
       "      <th>2</th>\n",
       "      <td>5224.531479</td>\n",
       "      <td>[X, X3]</td>\n",
       "    </tr>\n",
       "  </tbody>\n",
       "</table>\n",
       "</div>"
      ],
      "text/plain": [
       "           bic predictors\n",
       "2  5224.531479    [X, X3]"
      ]
     },
     "metadata": {},
     "output_type": "display_data"
    },
    {
     "data": {
      "text/html": [
       "<h4>Akaike's Information Criteria</h4>"
      ],
      "text/plain": [
       "<IPython.core.display.HTML object>"
      ]
     },
     "metadata": {},
     "output_type": "display_data"
    },
    {
     "data": {
      "image/png": "[encoded data removed]",
      "text/plain": [
       "<Figure size 432x288 with 1 Axes>"
      ]
     },
     "metadata": {
      "needs_background": "light"
     },
     "output_type": "display_data"
    },
    {
     "data": {
      "text/html": [
       "<div>\n",
       "<style scoped>\n",
       "    .dataframe tbody tr th:only-of-type {\n",
       "        vertical-align: middle;\n",
       "    }\n",
       "\n",
       "    .dataframe tbody tr th {\n",
       "        vertical-align: top;\n",
       "    }\n",
       "\n",
       "    .dataframe thead th {\n",
       "        text-align: right;\n",
       "    }\n",
       "</style>\n",
       "<table border=\"1\" class=\"dataframe\">\n",
       "  <thead>\n",
       "    <tr style=\"text-align: right;\">\n",
       "      <th></th>\n",
       "      <th>aic</th>\n",
       "      <th>predictors</th>\n",
       "    </tr>\n",
       "  </thead>\n",
       "  <tbody>\n",
       "    <tr>\n",
       "      <th>5</th>\n",
       "      <td>5209.013438</td>\n",
       "      <td>[X4, X5, X2, X, X3]</td>\n",
       "    </tr>\n",
       "  </tbody>\n",
       "</table>\n",
       "</div>"
      ],
      "text/plain": [
       "           aic           predictors\n",
       "5  5209.013438  [X4, X5, X2, X, X3]"
      ]
     },
     "metadata": {},
     "output_type": "display_data"
    }
   ],
   "source": [
    "# adjr2\n",
    "# ------------------------------------------------\n",
    "display(HTML('<h4>Adjusted R^2</h4>'))\n",
    "scorer = 'rsquared_adj'\n",
    "subset_analysis(forward_stepwise(X, y, scorer=scorer), scorer)\n",
    "\n",
    "# Bayes' Information Criteria (BIC)\n",
    "# ------------------------------------------------\n",
    "display(HTML('<h4>Bayes\\' Information Criteria</h4>'))\n",
    "scorer = 'bic'\n",
    "subset_analysis(forward_stepwise(X, y, scorer=scorer), scorer)\n",
    "\n",
    "# Akaike's Information Criteria (AIC/ C_p)\n",
    "# ------------------------------------------------\n",
    "display(HTML('<h4>Akaike\\'s Information Criteria</h4>'))\n",
    "scorer = 'aic'\n",
    "subset_analysis(forward_stepwise(X, y, scorer=scorer), scorer)"
   ]
  },
  {
   "cell_type": "markdown",
   "metadata": {},
   "source": [
    "- El modelo con R^2 Ajustado es el más alto, por lo tanto es el más completo en términos de predictores como el más complicado.\n",
    "\n",
    "- El modelo más sencillo, es con BIC, tiene solo dos predictores, pero aún ofrece un buen ajuste.\n",
    "\n",
    "- En términos de los predictores seleccionados, el modelo con el AIC coincide con el modelo de R^2 Ajustado más alto.\n",
    "\n",
    "Teniendo en cuenta las conclusiones generales, y lo decidido en el aterior modelo, el ajuste máximo es esencial y en esta instancia no se le da prioridad a la complejidad adicional, el modelo con el ajuste R^2 más alto (cinco predictores) X1, X2, X3, X4 y X5, es el más adecuado, y el AIC respalda la elección de este."
   ]
  },
  {
   "cell_type": "markdown",
   "metadata": {},
   "source": [
    "#### Backward stepwise selection"
   ]
  },
  {
   "cell_type": "code",
   "execution_count": 15,
   "metadata": {},
   "outputs": [
    {
     "data": {
      "text/html": [
       "<h4>Adjusted R^2</h4>"
      ],
      "text/plain": [
       "<IPython.core.display.HTML object>"
      ]
     },
     "metadata": {},
     "output_type": "display_data"
    },
    {
     "data": {
      "image/png": "[encoded data removed]",
      "text/plain": [
       "<Figure size 432x288 with 1 Axes>"
      ]
     },
     "metadata": {
      "needs_background": "light"
     },
     "output_type": "display_data"
    },
    {
     "data": {
      "text/html": [
       "<div>\n",
       "<style scoped>\n",
       "    .dataframe tbody tr th:only-of-type {\n",
       "        vertical-align: middle;\n",
       "    }\n",
       "\n",
       "    .dataframe tbody tr th {\n",
       "        vertical-align: top;\n",
       "    }\n",
       "\n",
       "    .dataframe thead th {\n",
       "        text-align: right;\n",
       "    }\n",
       "</style>\n",
       "<table border=\"1\" class=\"dataframe\">\n",
       "  <thead>\n",
       "    <tr style=\"text-align: right;\">\n",
       "      <th></th>\n",
       "      <th>rsquared_adj</th>\n",
       "      <th>predictors</th>\n",
       "    </tr>\n",
       "  </thead>\n",
       "  <tbody>\n",
       "    <tr>\n",
       "      <th>1</th>\n",
       "      <td>0.876515</td>\n",
       "      <td>[X, X2, X3, X4, X5]</td>\n",
       "    </tr>\n",
       "  </tbody>\n",
       "</table>\n",
       "</div>"
      ],
      "text/plain": [
       "   rsquared_adj           predictors\n",
       "1      0.876515  [X, X2, X3, X4, X5]"
      ]
     },
     "metadata": {},
     "output_type": "display_data"
    },
    {
     "data": {
      "text/html": [
       "<h4>Bayes' Information Criteria</h4>"
      ],
      "text/plain": [
       "<IPython.core.display.HTML object>"
      ]
     },
     "metadata": {},
     "output_type": "display_data"
    },
    {
     "data": {
      "image/png": "[encoded data removed]",
      "text/plain": [
       "<Figure size 432x288 with 1 Axes>"
      ]
     },
     "metadata": {
      "needs_background": "light"
     },
     "output_type": "display_data"
    },
    {
     "data": {
      "text/html": [
       "<div>\n",
       "<style scoped>\n",
       "    .dataframe tbody tr th:only-of-type {\n",
       "        vertical-align: middle;\n",
       "    }\n",
       "\n",
       "    .dataframe tbody tr th {\n",
       "        vertical-align: top;\n",
       "    }\n",
       "\n",
       "    .dataframe thead th {\n",
       "        text-align: right;\n",
       "    }\n",
       "</style>\n",
       "<table border=\"1\" class=\"dataframe\">\n",
       "  <thead>\n",
       "    <tr style=\"text-align: right;\">\n",
       "      <th></th>\n",
       "      <th>bic</th>\n",
       "      <th>predictors</th>\n",
       "    </tr>\n",
       "  </thead>\n",
       "  <tbody>\n",
       "    <tr>\n",
       "      <th>4</th>\n",
       "      <td>5224.531479</td>\n",
       "      <td>[X, X3]</td>\n",
       "    </tr>\n",
       "  </tbody>\n",
       "</table>\n",
       "</div>"
      ],
      "text/plain": [
       "           bic predictors\n",
       "4  5224.531479    [X, X3]"
      ]
     },
     "metadata": {},
     "output_type": "display_data"
    },
    {
     "data": {
      "text/html": [
       "<h4>Akaike's Information Criteria</h4>"
      ],
      "text/plain": [
       "<IPython.core.display.HTML object>"
      ]
     },
     "metadata": {},
     "output_type": "display_data"
    },
    {
     "data": {
      "image/png": "[encoded data removed]",
      "text/plain": [
       "<Figure size 432x288 with 1 Axes>"
      ]
     },
     "metadata": {
      "needs_background": "light"
     },
     "output_type": "display_data"
    },
    {
     "data": {
      "text/html": [
       "<div>\n",
       "<style scoped>\n",
       "    .dataframe tbody tr th:only-of-type {\n",
       "        vertical-align: middle;\n",
       "    }\n",
       "\n",
       "    .dataframe tbody tr th {\n",
       "        vertical-align: top;\n",
       "    }\n",
       "\n",
       "    .dataframe thead th {\n",
       "        text-align: right;\n",
       "    }\n",
       "</style>\n",
       "<table border=\"1\" class=\"dataframe\">\n",
       "  <thead>\n",
       "    <tr style=\"text-align: right;\">\n",
       "      <th></th>\n",
       "      <th>aic</th>\n",
       "      <th>predictors</th>\n",
       "    </tr>\n",
       "  </thead>\n",
       "  <tbody>\n",
       "    <tr>\n",
       "      <th>1</th>\n",
       "      <td>5209.013438</td>\n",
       "      <td>[X, X2, X3, X4, X5]</td>\n",
       "    </tr>\n",
       "  </tbody>\n",
       "</table>\n",
       "</div>"
      ],
      "text/plain": [
       "           aic           predictors\n",
       "1  5209.013438  [X, X2, X3, X4, X5]"
      ]
     },
     "metadata": {},
     "output_type": "display_data"
    }
   ],
   "source": [
    "# adjr2\n",
    "# ------------------------------------------------\n",
    "display(HTML('<h4>Adjusted R^2</h4>'))\n",
    "scorer = 'rsquared_adj'\n",
    "subset_analysis(backward_stepwise(X, y, scorer=scorer), scorer)\n",
    "\n",
    "# Bayes' Information Criteria (BIC)\n",
    "# ------------------------------------------------\n",
    "display(HTML('<h4>Bayes\\' Information Criteria</h4>'))\n",
    "scorer = 'bic'\n",
    "subset_analysis(backward_stepwise(X, y, scorer=scorer), scorer)\n",
    "\n",
    "# Akaike's Information Criteria (AIC/ C_p)\n",
    "# ------------------------------------------------\n",
    "display(HTML('<h4>Akaike\\'s Information Criteria</h4>'))\n",
    "scorer = 'aic'\n",
    "subset_analysis(backward_stepwise(X, y, scorer=scorer), scorer)"
   ]
  },
  {
   "cell_type": "markdown",
   "metadata": {},
   "source": [
    "Los resultados obtenidos en el modelo de Backward, son congruentes con los obtenidos en Forward, lo que nos lleva a tomar la misma decisión y a concluir exactamente lo mismo en términos de elección de predictores (X1, X2, X3, X4, X5)."
   ]
  },
  {
   "cell_type": "markdown",
   "metadata": {},
   "source": [
    "## Referencias"
   ]
  },
  {
   "cell_type": "markdown",
   "metadata": {},
   "source": [
    "Cosas que conviene saber al usar AIC, DIC y otros criterios de información. (s. f.). Juan Rubalcaba. https://jrubalcaba.github.io/posts/information_criterion/"
   ]
  }
 ],
 "metadata": {
  "kernelspec": {
   "display_name": "Python 3.11.5 64-bit",
   "language": "python",
   "name": "python3"
  },
  "language_info": {
   "codemirror_mode": {
    "name": "ipython",
    "version": 3
   },
   "file_extension": ".py",
   "mimetype": "text/x-python",
   "name": "python",
   "nbconvert_exporter": "python",
   "pygments_lexer": "ipython3",
   "version": "3.9.12"
  },
  "orig_nbformat": 4,
  "vscode": {
   "interpreter": {
    "hash": "c261aea317cc0286b3b3261fbba9abdec21eaa57589985bb7a274bf54d6cc0a7"
   }
  }
 },
 "nbformat": 4,
 "nbformat_minor": 2
}
